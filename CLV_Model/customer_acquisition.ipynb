{
 "cells": [
  {
   "cell_type": "code",
   "execution_count": 5,
   "metadata": {},
   "outputs": [
    {
     "data": {
      "text/html": [
       "<div>\n",
       "<style scoped>\n",
       "    .dataframe tbody tr th:only-of-type {\n",
       "        vertical-align: middle;\n",
       "    }\n",
       "\n",
       "    .dataframe tbody tr th {\n",
       "        vertical-align: top;\n",
       "    }\n",
       "\n",
       "    .dataframe thead th {\n",
       "        text-align: right;\n",
       "    }\n",
       "</style>\n",
       "<table border=\"1\" class=\"dataframe\">\n",
       "  <thead>\n",
       "    <tr style=\"text-align: right;\">\n",
       "      <th></th>\n",
       "      <th>Year</th>\n",
       "      <th>Number of Patients Acquired</th>\n",
       "    </tr>\n",
       "  </thead>\n",
       "  <tbody>\n",
       "    <tr>\n",
       "      <th>0</th>\n",
       "      <td>2010</td>\n",
       "      <td>871</td>\n",
       "    </tr>\n",
       "    <tr>\n",
       "      <th>1</th>\n",
       "      <td>2011</td>\n",
       "      <td>3079</td>\n",
       "    </tr>\n",
       "  </tbody>\n",
       "</table>\n",
       "</div>"
      ],
      "text/plain": [
       "   Year  Number of Patients Acquired\n",
       "0  2010                          871\n",
       "1  2011                         3079"
      ]
     },
     "execution_count": 5,
     "metadata": {},
     "output_type": "execute_result"
    }
   ],
   "source": [
    "import pandas as pd\n",
    "\n",
    "df = pd.read_csv('patient_transaction.csv')\n",
    "\n",
    "df2 = pd.read_csv('online_retail.csv',encoding='ISO-8859-1')\n",
    "df2 = df2[df2['Country'] == 'United Kingdom']\n",
    "\n",
    "\n",
    "# Step 1: Convert 'Date' column to dateti\n",
    "df2['InvoiceDate'] = pd.to_datetime(df2['InvoiceDate'])\n",
    "\n",
    "# Step 2: Find the first transaction for each Patient ID\n",
    "first_transaction = df2.groupby('CustomerID')['InvoiceDate'].min().reset_index()\n",
    "\n",
    "# Step 3: Extract the year of the first transaction\n",
    "first_transaction['Year'] = first_transaction['InvoiceDate'].dt.year\n",
    "\n",
    "# Step 4: Count the number of patients acquired per year\n",
    "historical_acquisition = first_transaction.groupby('Year')['CustomerID'].count().reset_index()\n",
    "historical_acquisition.rename(columns={'CustomerID': 'Number of Patients Acquired'}, inplace=True)\n",
    "\n",
    "historical_acquisition\n"
   ]
  },
  {
   "cell_type": "code",
   "execution_count": null,
   "metadata": {},
   "outputs": [
    {
     "data": {
      "text/html": [
       "<div>\n",
       "<style scoped>\n",
       "    .dataframe tbody tr th:only-of-type {\n",
       "        vertical-align: middle;\n",
       "    }\n",
       "\n",
       "    .dataframe tbody tr th {\n",
       "        vertical-align: top;\n",
       "    }\n",
       "\n",
       "    .dataframe thead th {\n",
       "        text-align: right;\n",
       "    }\n",
       "</style>\n",
       "<table border=\"1\" class=\"dataframe\">\n",
       "  <thead>\n",
       "    <tr style=\"text-align: right;\">\n",
       "      <th></th>\n",
       "      <th>Year</th>\n",
       "      <th>Number of Patients Acquired</th>\n",
       "    </tr>\n",
       "  </thead>\n",
       "  <tbody>\n",
       "    <tr>\n",
       "      <th>0</th>\n",
       "      <td>2018</td>\n",
       "      <td>613</td>\n",
       "    </tr>\n",
       "    <tr>\n",
       "      <th>1</th>\n",
       "      <td>2019</td>\n",
       "      <td>248</td>\n",
       "    </tr>\n",
       "    <tr>\n",
       "      <th>2</th>\n",
       "      <td>2020</td>\n",
       "      <td>85</td>\n",
       "    </tr>\n",
       "    <tr>\n",
       "      <th>3</th>\n",
       "      <td>2021</td>\n",
       "      <td>37</td>\n",
       "    </tr>\n",
       "    <tr>\n",
       "      <th>4</th>\n",
       "      <td>2022</td>\n",
       "      <td>18</td>\n",
       "    </tr>\n",
       "    <tr>\n",
       "      <th>5</th>\n",
       "      <td>2023</td>\n",
       "      <td>8</td>\n",
       "    </tr>\n",
       "  </tbody>\n",
       "</table>\n",
       "</div>"
      ],
      "text/plain": [
       "   Year  Number of Patients Acquired\n",
       "0  2018                          613\n",
       "1  2019                          248\n",
       "2  2020                           85\n",
       "3  2021                           37\n",
       "4  2022                           18\n",
       "5  2023                            8"
      ]
     },
     "execution_count": 1,
     "metadata": {},
     "output_type": "execute_result"
    }
   ],
   "source": [
    "import pandas as pd\n",
    "\n",
    "df = pd.read_csv('patient_transaction.csv')\n",
    "\n",
    "df2 = pd.read_csv('online_retail.csv')\n",
    "df2 = df2[df2['Country'] == 'Germany']\n",
    "\n",
    "\n",
    "# Step 1: Convert 'Date' column to dateti\n",
    "df2['InvoiceDate'] = pd.to_datetime(df2['InvoiceDate'])\n",
    "\n",
    "# Step 2: Find the first transaction for each Patient ID\n",
    "first_transaction = df.groupby('Patient ID')['Date'].min().reset_index()\n",
    "\n",
    "# Step 3: Extract the year of the first transaction\n",
    "first_transaction['Year'] = first_transaction['Date'].dt.year\n",
    "\n",
    "# Step 4: Count the number of patients acquired per year\n",
    "historical_acquisition = first_transaction.groupby('Year')['Patient ID'].count().reset_index()\n",
    "historical_acquisition.rename(columns={'Patient ID': 'Number of Patients Acquired'}, inplace=True)\n",
    "\n",
    "historical_acquisition\n"
   ]
  },
  {
   "cell_type": "code",
   "execution_count": 6,
   "metadata": {},
   "outputs": [
    {
     "name": "stdout",
     "output_type": "stream",
     "text": [
      "Linear Regression Predictions: [ 5287.  7495.  9703. 11911. 14119.]\n"
     ]
    }
   ],
   "source": [
    "from sklearn.linear_model import LinearRegression\n",
    "import numpy as np\n",
    "\n",
    "# Prepare data\n",
    "years = historical_acquisition['Year'].values.reshape(-1, 1)  # Feature: years\n",
    "acquisitions = historical_acquisition['Number of Patients Acquired'].values  # Target\n",
    "\n",
    "# Fit the model\n",
    "linear_model = LinearRegression()\n",
    "linear_model.fit(years, acquisitions)\n",
    "\n",
    "# Forecast for the next 5 years\n",
    "future_years = np.arange(years[-1] + 1, years[-1] + 6).reshape(-1, 1)\n",
    "linear_predictions = linear_model.predict(future_years)\n",
    "\n",
    "print(\"Linear Regression Predictions:\", linear_predictions)\n"
   ]
  },
  {
   "cell_type": "code",
   "execution_count": 7,
   "metadata": {},
   "outputs": [
    {
     "name": "stdout",
     "output_type": "stream",
     "text": [
      "Holt-Winters Predictions: 2     5287.000000\n",
      "3     7495.000000\n",
      "4     9702.999999\n",
      "5    11910.999999\n",
      "6    14118.999999\n",
      "dtype: float64\n"
     ]
    }
   ],
   "source": [
    "from statsmodels.tsa.holtwinters import ExponentialSmoothing\n",
    "\n",
    "# Fit the model\n",
    "holt_model = ExponentialSmoothing(\n",
    "    historical_acquisition['Number of Patients Acquired'],\n",
    "    trend='add', seasonal=None\n",
    ").fit()\n",
    "\n",
    "# Forecast for the next 5 years\n",
    "holt_predictions = holt_model.forecast(5)\n",
    "print(\"Holt-Winters Predictions:\", holt_predictions)\n"
   ]
  },
  {
   "cell_type": "code",
   "execution_count": 11,
   "metadata": {},
   "outputs": [
    {
     "name": "stdout",
     "output_type": "stream",
     "text": [
      "Random Forest Predictions: [2504.92 2504.92 2504.92 2504.92 2504.92]\n"
     ]
    }
   ],
   "source": [
    "from sklearn.ensemble import RandomForestRegressor\n",
    "\n",
    "# Prepare data\n",
    "years = historical_acquisition['Year'].values.reshape(-1, 1)\n",
    "acquisitions = historical_acquisition['Number of Patients Acquired'].values\n",
    "\n",
    "# Fit Random Forest model\n",
    "rf_model = RandomForestRegressor(n_estimators=100, random_state=42)\n",
    "rf_model.fit(years, acquisitions)\n",
    "\n",
    "# Forecast for the next 5 years\n",
    "future_years = np.arange(years[-1] + 1, years[-1] + 6).reshape(-1, 1)\n",
    "rf_predictions = rf_model.predict(future_years)\n",
    "\n",
    "print(\"Random Forest Predictions:\", rf_predictions)\n"
   ]
  },
  {
   "cell_type": "code",
   "execution_count": 12,
   "metadata": {},
   "outputs": [
    {
     "name": "stderr",
     "output_type": "stream",
     "text": [
      "c:\\Users\\Zak\\anaconda3\\lib\\site-packages\\keras\\src\\layers\\rnn\\rnn.py:204: UserWarning: Do not pass an `input_shape`/`input_dim` argument to a layer. When using Sequential models, prefer using an `Input(shape)` object as the first layer in the model instead.\n",
      "  super().__init__(**kwargs)\n"
     ]
    },
    {
     "name": "stdout",
     "output_type": "stream",
     "text": [
      "LSTM Predictions: [[1342.9928]\n",
      " [1305.3225]\n",
      " [1304.4277]\n",
      " [1304.4064]\n",
      " [1304.4059]]\n"
     ]
    }
   ],
   "source": [
    "from keras.models import Sequential\n",
    "from keras.layers import LSTM, Dense\n",
    "from sklearn.preprocessing import MinMaxScaler\n",
    "import numpy as np\n",
    "\n",
    "# Prepare data\n",
    "scaler = MinMaxScaler()\n",
    "scaled_acquisitions = scaler.fit_transform(historical_acquisition['Number of Patients Acquired'].values.reshape(-1, 1))\n",
    "\n",
    "X = np.array([scaled_acquisitions[i:i+1] for i in range(len(scaled_acquisitions) - 1)])\n",
    "y = scaled_acquisitions[1:]\n",
    "\n",
    "# Build LSTM model\n",
    "model = Sequential()\n",
    "model.add(LSTM(50, activation='relu', input_shape=(1, 1)))\n",
    "model.add(Dense(1))\n",
    "model.compile(optimizer='adam', loss='mse')\n",
    "model.fit(X, y, epochs=200, verbose=0)\n",
    "\n",
    "# Forecast for the next 5 years\n",
    "future_acquisitions = []\n",
    "current_input = scaled_acquisitions[-1].reshape((1, 1, 1))\n",
    "for _ in range(5):\n",
    "    prediction = model.predict(current_input, verbose=0)\n",
    "    future_acquisitions.append(prediction[0][0])\n",
    "    current_input = np.array(prediction).reshape((1, 1, 1))\n",
    "\n",
    "# Inverse scale the predictions\n",
    "future_acquisitions = scaler.inverse_transform(np.array(future_acquisitions).reshape(-1, 1))\n",
    "print(\"LSTM Predictions:\", future_acquisitions)\n"
   ]
  },
  {
   "cell_type": "code",
   "execution_count": null,
   "metadata": {},
   "outputs": [],
   "source": []
  }
 ],
 "metadata": {
  "kernelspec": {
   "display_name": "base",
   "language": "python",
   "name": "python3"
  },
  "language_info": {
   "codemirror_mode": {
    "name": "ipython",
    "version": 3
   },
   "file_extension": ".py",
   "mimetype": "text/x-python",
   "name": "python",
   "nbconvert_exporter": "python",
   "pygments_lexer": "ipython3",
   "version": "3.10.9"
  }
 },
 "nbformat": 4,
 "nbformat_minor": 2
}
